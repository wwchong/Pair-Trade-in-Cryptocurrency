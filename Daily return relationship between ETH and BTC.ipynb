{
 "cells": [
  {
   "cell_type": "code",
   "execution_count": 1,
   "metadata": {},
   "outputs": [],
   "source": [
    "import cryptowatch as cw\n",
    "import pandas as pd\n",
    "import datetime as dt\n",
    "from datetime import timedelta\n",
    "import numpy as np\n",
    "import statsmodels.api as sm\n",
    "import ta\n",
    "import matplotlib.pyplot as plt\n",
    "from sklearn.linear_model import LinearRegression\n",
    "from binance.client import Client"
   ]
  },
  {
   "cell_type": "code",
   "execution_count": 2,
   "metadata": {},
   "outputs": [],
   "source": [
    "#get data from cryptowatch\n",
    "cw.api_key = \"7N9GHE6PPS0ZF91V9V10\"\n",
    "\n",
    "k = cw.markets.list(\"BINANCE\") # Returns all markets on Binance\n",
    "\n",
    "data = cw.markets.get(\"BINANCE:BTCUSDT\", ohlc=True, periods=[\"1d\"])\n",
    "data2 = cw.markets.get(\"BINANCE:ETHUSDT\", ohlc=True, periods=[\"1d\"])"
   ]
  },
  {
   "cell_type": "code",
   "execution_count": 3,
   "metadata": {},
   "outputs": [],
   "source": [
    "data = pd.DataFrame(data.of_1d,columns=['Time','Open','High','Low','Close','Volume_base','Volume_quote'])\n",
    "data2 = pd.DataFrame(data2.of_1d,columns=['Time','Open','High','Low','Close','Volume_base','Volume_quote'])"
   ]
  },
  {
   "cell_type": "code",
   "execution_count": 4,
   "metadata": {},
   "outputs": [
    {
     "name": "stderr",
     "output_type": "stream",
     "text": [
      "/Users/Eason/anaconda3/lib/python3.7/site-packages/pandas/core/indexing.py:670: SettingWithCopyWarning: \n",
      "A value is trying to be set on a copy of a slice from a DataFrame\n",
      "\n",
      "See the caveats in the documentation: https://pandas.pydata.org/pandas-docs/stable/user_guide/indexing.html#returning-a-view-versus-a-copy\n",
      "  iloc._setitem_with_indexer(indexer, value)\n"
     ]
    }
   ],
   "source": [
    "data['Date'] = np.zeros(len(data))\n",
    "for i in range(len(data)):\n",
    "    data['Date'].iloc[i] = dt.datetime.fromtimestamp(data['Time'].iloc[i]).date()"
   ]
  },
  {
   "cell_type": "code",
   "execution_count": 5,
   "metadata": {},
   "outputs": [],
   "source": [
    "data2['Date'] = np.zeros(len(data2))\n",
    "for i in range(len(data2)):\n",
    "    data2['Date'].iloc[i] = dt.datetime.fromtimestamp(data2['Time'].iloc[i]).date()"
   ]
  },
  {
   "cell_type": "code",
   "execution_count": 6,
   "metadata": {},
   "outputs": [],
   "source": [
    "data.drop(\"Time\",axis=1,inplace=True)\n",
    "data.set_index('Date',inplace=True)"
   ]
  },
  {
   "cell_type": "code",
   "execution_count": 7,
   "metadata": {},
   "outputs": [],
   "source": [
    "data2.drop(\"Time\",axis=1,inplace=True)\n",
    "data2.set_index('Date',inplace=True)"
   ]
  },
  {
   "cell_type": "code",
   "execution_count": 8,
   "metadata": {},
   "outputs": [],
   "source": [
    "#calculate the daily return\n",
    "data['BTC'] = data['Close'].pct_change()\n",
    "data2['ETH'] = data2['Close'].pct_change()"
   ]
  },
  {
   "cell_type": "code",
   "execution_count": 12,
   "metadata": {},
   "outputs": [],
   "source": [
    "#BTC has one more day data than ETH so we have to drop that extra day\n",
    "data = data[1:]"
   ]
  },
  {
   "cell_type": "code",
   "execution_count": 14,
   "metadata": {},
   "outputs": [
    {
     "data": {
      "text/plain": [
       "Text(0, 0.5, \"ETH's daily return\")"
      ]
     },
     "execution_count": 14,
     "metadata": {},
     "output_type": "execute_result"
    },
    {
     "data": {
      "image/png": "[encoded data removed]",
      "text/plain": [
       "<Figure size 432x288 with 1 Axes>"
      ]
     },
     "metadata": {
      "needs_background": "light"
     },
     "output_type": "display_data"
    }
   ],
   "source": [
    "#plot scatterplot of those daily return\n",
    "plt.scatter(data['BTC'][1:],data2['ETH'][1:])\n",
    "plt.xlabel(\"BTC's daily return\")\n",
    "plt.ylabel(\"ETH's daily return\")"
   ]
  },
  {
   "cell_type": "code",
   "execution_count": 15,
   "metadata": {},
   "outputs": [
    {
     "name": "stdout",
     "output_type": "stream",
     "text": [
      "                            OLS Regression Results                            \n",
      "==============================================================================\n",
      "Dep. Variable:                    BTC   R-squared:                       0.668\n",
      "Model:                            OLS   Adj. R-squared:                  0.667\n",
      "Method:                 Least Squares   F-statistic:                     2454.\n",
      "Date:                Wed, 09 Jun 2021   Prob (F-statistic):          1.65e-294\n",
      "Time:                        11:53:01   Log-Likelihood:                 2876.4\n",
      "No. Observations:                1224   AIC:                            -5749.\n",
      "Df Residuals:                    1222   BIC:                            -5739.\n",
      "Df Model:                           1                                         \n",
      "Covariance Type:            nonrobust                                         \n",
      "==============================================================================\n",
      "                 coef    std err          t      P>|t|      [0.025      0.975]\n",
      "------------------------------------------------------------------------------\n",
      "const          0.0005      0.001      0.817      0.414      -0.001       0.002\n",
      "ETH            0.6201      0.013     49.536      0.000       0.596       0.645\n",
      "==============================================================================\n",
      "Omnibus:                      126.791   Durbin-Watson:                   1.905\n",
      "Prob(Omnibus):                  0.000   Jarque-Bera (JB):              915.278\n",
      "Skew:                           0.113   Prob(JB):                    1.78e-199\n",
      "Kurtosis:                       7.230   Cond. No.                         19.0\n",
      "==============================================================================\n",
      "\n",
      "Notes:\n",
      "[1] Standard Errors assume that the covariance matrix of the errors is correctly specified.\n"
     ]
    },
    {
     "name": "stderr",
     "output_type": "stream",
     "text": [
      "/Users/Eason/anaconda3/lib/python3.7/site-packages/pandas/core/frame.py:4170: SettingWithCopyWarning: \n",
      "A value is trying to be set on a copy of a slice from a DataFrame\n",
      "\n",
      "See the caveats in the documentation: https://pandas.pydata.org/pandas-docs/stable/user_guide/indexing.html#returning-a-view-versus-a-copy\n",
      "  errors=errors,\n"
     ]
    }
   ],
   "source": [
    "#run regression on BTC and ETH's daily returns\n",
    "temp = data.iloc[1:]\n",
    "y = temp[['BTC']]\n",
    "y.reset_index(inplace=True)\n",
    "y.drop('Date',axis=1,inplace=True)\n",
    "x = data2['ETH'][1:]\n",
    "x = sm.add_constant(x)\n",
    "x.reset_index(inplace=True)\n",
    "x.drop('Date',axis=1,inplace=True)\n",
    "model = sm.OLS(y,x,)\n",
    "model = model.fit()\n",
    "print(model.summary())"
   ]
  },
  {
   "cell_type": "code",
   "execution_count": 78,
   "metadata": {},
   "outputs": [
    {
     "data": {
      "text/plain": [
       "[<matplotlib.lines.Line2D at 0x109a333d0>]"
      ]
     },
     "execution_count": 78,
     "metadata": {},
     "output_type": "execute_result"
    },
    {
     "data": {
      "image/png": "[encoded data removed]",
      "text/plain": [
       "<Figure size 432x288 with 1 Axes>"
      ]
     },
     "metadata": {
      "needs_background": "light"
     },
     "output_type": "display_data"
    }
   ],
   "source": [
    "#show that the difference between BTC's daily return and \n",
    "#the coefficient from the regression * ETH's daily return looks kind of stationary\n",
    "#therefore, we can buy BTC and sell ETH when the difference of the daily returns is smaller than -0.05\n",
    "#vice versa, we can sell BTC and buy ETH when the difference is larger than 0.05\n",
    "plt.plot(data['BTC'][1:]-0.62*data2['ETH'][1:])"
   ]
  },
  {
   "cell_type": "code",
   "execution_count": null,
   "metadata": {},
   "outputs": [],
   "source": []
  }
 ],
 "metadata": {
  "kernelspec": {
   "display_name": "Python 3",
   "language": "python",
   "name": "python3"
  },
  "language_info": {
   "codemirror_mode": {
    "name": "ipython",
    "version": 3
   },
   "file_extension": ".py",
   "mimetype": "text/x-python",
   "name": "python",
   "nbconvert_exporter": "python",
   "pygments_lexer": "ipython3",
   "version": "3.7.9"
  }
 },
 "nbformat": 4,
 "nbformat_minor": 4
}
